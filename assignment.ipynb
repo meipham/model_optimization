{
 "cells": [
  {
   "cell_type": "code",
   "execution_count": 2,
   "metadata": {},
   "outputs": [],
   "source": [
    "%matplotlib inline\n",
    "import random\n",
    "\n",
    "\n",
    "import matplotlib.pyplot as plt\n",
    "import numpy as np\n",
    "from sklearn.cluster import MiniBatchKMeans"
   ]
  },
  {
   "source": [
    "## Dataset"
   ],
   "cell_type": "markdown",
   "metadata": {}
  },
  {
   "cell_type": "code",
   "execution_count": 3,
   "metadata": {},
   "outputs": [],
   "source": [
    "# Read data files\n",
    "\n",
    "from os import path\n",
    "\n",
    "DATA = \"C:\\\\Users\\\\Uyen\\\\Documents\\\\AdvancedAlg\\data\"\n",
    "DATA_SCHEDULE_ORI = path.join(DATA, \"Data_TK_bieu.xlsx\")\n",
    "DATA_TEST= path.join(DATA, \"test.xls\")\n",
    "\n",
    "\n",
    "DATA_SHEET = [\"TKB\", \"GV\", \"Phong\", \"Lop\", \"Mon\"]\n"
   ]
  },
  {
   "source": [
    "import pandas as pd\n",
    "\n",
    "tkb = pd.read_excel(sheet_name=\"TKB\", index_col=0, usecols=[\"ID_\", \"ID_Lop\", \"MaMon\", \"start\", \"end\", \"day\", \"beginning\", \"time\", \"MAGV\"], io=DATA_SCHEDULE_ORI)\n",
    "gv = pd.read_excel(sheet_name=\"GV\", index_col=0, usecols=[u\"STT\", u\"Mã giáo viên\", u\"Bộ môn\", \"Khoa\", u\"Họ Và Tên\"], io=DATA_SCHEDULE_ORI)\n",
    "# phong = pd.read_excel(sheet_name=\"Phong\", index_col=None, usecols=[u\"Mã phòng\", u\"Tên phòng\"], io=DATA_SCHEDULE_ORI)\n",
    "lop = pd.read_excel(sheet_name=\"Lop\", index_col=0, usecols=[u\"STT\", u\"Mã lớp\", u\"Tên lớp\", u\"Khóa học\", u\"Hệ đào tạo\", u\"Ngành\", u\"Chuyên ngành\", u\"Sĩ số\", u\"Ngày BĐ\", u\"Ngày KT\",\tu\"Trạng thái\"], io=DATA_SCHEDULE_ORI)\n",
    "mon = pd.read_excel(sheet_name=\"Mon\", index_col=0, usecols=[u\"STT\", u\"Mã môn\", u\"Tên môn\", u\"Số tiết lý thuyết\", u\"Số tiết thực hành\", u\"Bộ môn\"], io=DATA_SCHEDULE_ORI)\n",
    "\n",
    "# Drop duplicates\n",
    "for df in [tkb, gv, lop, mon]:\n",
    "    df.drop_duplicates(inplace=True)\n",
    "    df.reset_index(inplace=True)"
   ],
   "cell_type": "code",
   "metadata": {},
   "execution_count": 14,
   "outputs": []
  },
  {
   "cell_type": "code",
   "execution_count": 15,
   "metadata": {},
   "outputs": [
    {
     "output_type": "execute_result",
     "data": {
      "text/plain": [
       "(   ID_  ID_Lop     MaMon      start        end  day  beginning  time   MAGV\n",
       " 0    1      54  06.03.38 2020-08-03 2021-01-04    5          1  sáng  C.406\n",
       " 1    2      54  06.08.35 2020-08-03 2020-10-05    3          1  sáng  C.406\n",
       " 2    3      54  06.08.36 2020-10-19 2020-12-21    2          1  sáng  C.406\n",
       " 3    4      54  06.08.37 2020-08-03 2020-10-05    2          1  sáng  C.406\n",
       " 4    5      54  06.08.38 2020-10-19 2020-12-21    3          1  sáng  C.406,\n",
       "    STT        Họ Và Tên Mã giáo viên         Bộ môn                  Khoa\n",
       " 0    3    Aditya Aditya      L09.045     Cơ điện tử  Cơ Điện tử - Tin Học\n",
       " 1    4  Hồ Thị Ngọc Anh        C.705         Cơ bản                Cơ bản\n",
       " 2    5     Phạm Thị Bảy        C.304     Cơ điện tử  Cơ Điện tử - Tin Học\n",
       " 3    6    Đặng Văn Bình        B.501  Phòng Đào Tạo         Phòng Đào Tạo\n",
       " 4    7  Phạm Thanh Bình        D.114         Cơ bản                Cơ bản,\n",
       "    STT              Tên môn    Mã môn  Số tiết lý thuyết  Số tiết thực hành  \\\n",
       " 0    1              Tin Học   0.00.11                 30                  0   \n",
       " 1    2            Chính trị  00.00.01                 90                  0   \n",
       " 2    3            Pháp luật  00.00.02                 30                  0   \n",
       " 3    4    Giáo dục thể chất  00.00.03                 20                 40   \n",
       " 4    5  Giáo dục quốc phòng  00.00.04                 25                 50   \n",
       " \n",
       "    Bộ môn  \n",
       " 0  Cơ bản  \n",
       " 1  Cơ bản  \n",
       " 2  Cơ bản  \n",
       " 3  Cơ bản  \n",
       " 4  Cơ bản  ,\n",
       "    STT       Mã lớp                                   Tên lớp  \\\n",
       " 0    1  18.01.20.01                              Hàn QT - K07   \n",
       " 1    2  18.02.39.01  Công nghệ Hàn theo tiêu chuẩn Pháp - K12   \n",
       " 2    3  18.02.01.01                                Hàn  - K12   \n",
       " 3    9  19.02.39.01            Công nghệ Hàn chuẩn Pháp - K13   \n",
       " 4   17  18.01.18.01          Chế tạo thiết bị cơ khí  QT- K07   \n",
       " \n",
       "                           Khóa học Hệ đào tạo   Ngành  \\\n",
       " 0  Cao đẳng nâng cao quốc tế - K07   Cao đẳng     Hàn   \n",
       " 1                   Cao đẳng - K12   Cao đẳng     Hàn   \n",
       " 2                   Cao đẳng - K12   Cao đẳng     Hàn   \n",
       " 3                   Cao đẳng - K13   Cao đẳng     Hàn   \n",
       " 4  Cao đẳng nâng cao quốc tế - K07   Cao đẳng  Cơ khí   \n",
       " \n",
       "                          Chuyên ngành  Sĩ số    Ngày BĐ    Ngày KT Trạng thái  \n",
       " 0                                 Hàn      0 2018-09-07 2021-09-07             \n",
       " 1  Công nghệ Hàn theo tiêu chuẩn Pháp      0 2018-09-07 2021-04-28   Đang học  \n",
       " 2                                 Hàn      0 2018-09-07 2021-04-28   Đang học  \n",
       " 3  Công nghệ Hàn theo tiêu chuẩn Pháp      0 2019-08-20 2022-05-05   Đang học  \n",
       " 4             Chế tạo thiết bị cơ khí      0 2018-09-07 2021-09-07   Đang học  )"
      ]
     },
     "metadata": {},
     "execution_count": 15
    }
   ],
   "source": [
    "\n",
    "tkb.head(5), gv.head(5), mon.head(5), lop.head(5)"
   ]
  },
  {
   "cell_type": "code",
   "execution_count": 43,
   "metadata": {},
   "outputs": [],
   "source": [
    "# Counting\n",
    "\n",
    "num_tkb = tkb.shape[0]\n",
    "num_gv = gv.shape[0]\n",
    "num_phong = phong.shape[0]\n",
    "num_lop = lop.shape[0]\n",
    "num_mon = mon.shape[0]"
   ]
  },
  {
   "cell_type": "code",
   "execution_count": 69,
   "metadata": {},
   "outputs": [
    {
     "output_type": "stream",
     "name": "stdout",
     "text": [
      "Thời điểm bắt đầu và kết thúc của học kỳ là TỪ 2020-08-03 00:00:00 ĐẾN 2021-02-08 00:00:00\nThời điểm bắt đầu và kết thúc của thực tập là TỪ 2020-09-01 ĐẾN 2020-10-14\nTổng số tuần học:  27 days 00:00:00\nTổng số tuần bị delay:  6.142857142857143\n"
     ]
    }
   ],
   "source": [
    "import datetime\n",
    "import math\n",
    "\n",
    "# Phân tích thời gian\n",
    "\n",
    "# period_begin: Thời điểm bắt đầu năm học \n",
    "# period_end: Thời điểm kết thúc học kỳ\n",
    "# Fixed value from data\n",
    "period_begin, period_end = min(tkb.start), max(tkb.end)\n",
    "print(\"Thời điểm bắt đầu và kết thúc của học kỳ là TỪ %s ĐẾN %s\"%(date_begin, date_end))\n",
    "\n",
    "\n",
    "\n",
    "# delay_begin: Thời điểm bắt đầu nghỉ học do thực tập\n",
    "# delay_end: Thời điểm kết thúc thực tập và bắt đầu học lại\n",
    "# Do người quản trị nhập vào \n",
    "\n",
    "delay_begin, delay_end = datetime.date(2020, 9, 1), datetime.date(2020, 10, 14)\n",
    "print(\"Thời điểm bắt đầu và kết thúc của thực tập là TỪ %s ĐẾN %s\"%(delay_begin, delay_end))\n",
    "\n",
    "\n",
    "\n",
    "# Tổng số tuần của học kỳ\n",
    "num_week_total = (period_end - period_begin)/7\n",
    "num_week_delay = (delay_end-delay_begin).days/7\n",
    "print(\"Tổng số tuần học: \", num_week_total)\n",
    "print(\"Tổng số tuần bị delay: \", num_week_delay)\n"
   ]
  },
  {
   "cell_type": "code",
   "execution_count": null,
   "metadata": {},
   "outputs": [],
   "source": [
    "# Mã hóa thời khóa biểu hiện tại thành ma trận 4 chiều\n",
    "# Encode the schedule to 4D-matrix"
   ]
  },
  {
   "source": [
    "## Model deployment\n",
    "\n",
    "### Stage 1: Tất cả các môn học đều có độ ưu tiên như nhau"
   ],
   "cell_type": "markdown",
   "metadata": {}
  },
  {
   "cell_type": "code",
   "execution_count": 49,
   "metadata": {},
   "outputs": [
    {
     "output_type": "execute_result",
     "data": {
      "text/plain": [
       "Timedelta('27 days 00:00:00')"
      ]
     },
     "metadata": {},
     "execution_count": 49
    }
   ],
   "source": [
    "### Phương án 1:\n",
    "\n",
    "# Input: Môn học, Lớp, Số buổi cần thêm \n",
    "# Objective: Tối thiểu hóa thời gian\n",
    "\n",
    "\"\"\"\"\"\"\"\"\"\"\"\"\"\"\"\"\"\"\"\"\"\"\"\"\"\"\"\"\"\"\"\"\"\"\"\"\"\"\"\"\"\"\"\"\n",
    "\n",
    "### Phương án 2:\n",
    "\n",
    "# Input: Môn học, Lớp, Giảng viên, Khung thời gian\n",
    "# Objective: Tối đa hóa tổng số buổi có thể thêm của tất cả các môn theo độ ưu tiên\n",
    "\n",
    "# ====> Chon phương án 2\n",
    "\n",
    "\n",
    "\n",
    "# Assumpsion: \n",
    "## Phòng học không giới hạn số lượng\n",
    "## Không có ràng buộc về phòng học (giả định rằng số phòng học nhà trường có thể cung cấp là không giới hạn)"
   ]
  },
  {
   "cell_type": "code",
   "execution_count": 27,
   "metadata": {},
   "outputs": [],
   "source": [
    "import gurobipy as gp\n",
    "from gurobipy import GRB\n",
    "\n",
    "import numpy as np"
   ]
  },
  {
   "cell_type": "code",
   "execution_count": 28,
   "metadata": {},
   "outputs": [
    {
     "output_type": "stream",
     "name": "stdout",
     "text": [
      "Using license file C:\\Users\\Uyen\\gurobi.lic\n",
      "Academic license - for non-commercial use only - expires 2021-02-06\n"
     ]
    }
   ],
   "source": [
    "model = gp.Model(name=\"Re-scheduling\")\n"
   ]
  },
  {
   "cell_type": "code",
   "execution_count": null,
   "metadata": {},
   "outputs": [],
   "source": [
    "# Create a 4-D array of binary variables\n",
    "# x[i,j,k,t]=1 means that lớp Li được học môn Mj của giảng viên Gk tại buổi Bt \n",
    "\n",
    "tkbVar = model.addMVar(shape=(num_lop, num_gv, num_mon, num_buoi), lb=0, ub=0, obj=0, vtype=GRB.BINARY, name=x)\n"
   ]
  },
  {
   "cell_type": "code",
   "execution_count": null,
   "metadata": {},
   "outputs": [],
   "source": [
    "# Mục tiêu là thêm được tối đa số buổi bù trong khung thời gian cho trước\n",
    "\n",
    "model.setObjective(x.sum(), GRB.MAXIMIZE)"
   ]
  },
  {
   "cell_type": "code",
   "execution_count": 3,
   "metadata": {},
   "outputs": [],
   "source": [
    "# Add constrain\n",
    "\n",
    "# Constrain 1: Giảng viên phải có chuyên môn phù hợp với môn được giao\n",
    "\n",
    "# Constrain 2: Mỗi lớp chỉ học được một 1 môn và 1 giáo viên tại mỗi thời điểm\n",
    "\n",
    "# Constrain 3: Mỗi giáo viên chỉ dạy 1 môn tại mỗi buổi (có thể dạy nhiều lớp)\n",
    "\n",
    "# Constrain 4: Đáp ứng đủ khối lượng học của các môn (Số buổi <= Số buổi cần học)\n",
    "\n",
    "# Constrain 5: Không thay đổi lịch đã sắp xếp\n"
   ]
  },
  {
   "cell_type": "code",
   "execution_count": 4,
   "metadata": {},
   "outputs": [],
   "source": [
    "# Model foundation"
   ]
  },
  {
   "cell_type": "code",
   "execution_count": 5,
   "metadata": {},
   "outputs": [],
   "source": [
    "#Analysis"
   ]
  },
  {
   "source": [
    "### Stage 2: Có xét đến độ ưu tiên của các môn khi sắp lại lịch"
   ],
   "cell_type": "markdown",
   "metadata": {}
  },
  {
   "cell_type": "code",
   "execution_count": null,
   "metadata": {},
   "outputs": [],
   "source": []
  }
 ],
 "metadata": {
  "kernelspec": {
   "display_name": "Python 3",
   "language": "python",
   "name": "python3"
  },
  "language_info": {
   "codemirror_mode": {
    "name": "ipython",
    "version": 3
   },
   "file_extension": ".py",
   "mimetype": "text/x-python",
   "name": "python",
   "nbconvert_exporter": "python",
   "pygments_lexer": "ipython3",
   "version": "3.8.5-final"
  }
 },
 "nbformat": 4,
 "nbformat_minor": 4
}