{
 "cells": [
  {
   "cell_type": "code",
   "execution_count": 7,
   "metadata": {},
   "outputs": [],
   "source": [
    "%matplotlib inline\n",
    "import random\n",
    "\n",
    "import gurobipy as gp\n",
    "from gurobipy import GRB\n",
    "\n",
    "import matplotlib.pyplot as plt\n",
    "import numpy as np\n",
    "from sklearn.cluster import MiniBatchKMeans"
   ]
  },
  {
   "cell_type": "code",
   "execution_count": 9,
   "metadata": {},
   "outputs": [],
   "source": [
    "# Read data files\n",
    "\n",
    "import os\n",
    "\n",
    "ROOT = "
   ]
  },
  {
   "cell_type": "code",
   "execution_count": 8,
   "metadata": {},
   "outputs": [
    {
     "name": "stdout",
     "output_type": "stream",
     "text": [
      "First customer location: (0.33164437091949245, -0.2809884943538464)\n"
     ]
    }
   ],
   "source": [
    "\n",
    "\n",
    "# Tested with Gurobi v9.0.0 and Python 3.7.0\n",
    "\n",
    "seed = 10101\n",
    "num_customers = 50000\n",
    "num_candidates = 50\n",
    "max_facilities = 8\n",
    "num_clusters = 1000\n",
    "num_gaussians = 10\n",
    "threshold = 0.99\n",
    "\n",
    "random.seed(seed)\n",
    "customers_per_gaussian = np.random.multinomial(num_customers,\n",
    "                                               [1/num_gaussians]*num_gaussians)\n",
    "customer_locs = []\n",
    "for i in range(num_gaussians):\n",
    "    # each center coordinate in [-0.5, 0.5]\n",
    "    center = (random.random()-0.5, random.random()-0.5)\n",
    "    customer_locs += [(random.gauss(0,.1) + center[0], random.gauss(0,.1) + center[1])\n",
    "                  for i in range(customers_per_gaussian[i])]\n",
    "# each candidate coordinate in [-0.5, 0.5]\n",
    "facility_locs = [(random.random()-0.5, random.random()-0.5)\n",
    "              for i in range(num_candidates)]\n",
    "print('First customer location:', customer_locs[0])"
   ]
  },
  {
   "cell_type": "code",
   "execution_count": null,
   "metadata": {},
   "outputs": [],
   "source": [
    "nDay=789"
   ]
  },
  {
   "cell_type": "code",
   "execution_count": 3,
   "metadata": {},
   "outputs": [],
   "source": [
    "# Prepocessing"
   ]
  },
  {
   "cell_type": "code",
   "execution_count": 4,
   "metadata": {},
   "outputs": [],
   "source": [
    "# Model foundation"
   ]
  },
  {
   "cell_type": "code",
   "execution_count": 5,
   "metadata": {},
   "outputs": [],
   "source": [
    "#Analysis"
   ]
  },
  {
   "cell_type": "code",
   "execution_count": null,
   "metadata": {},
   "outputs": [],
   "source": []
  }
 ],
 "metadata": {
  "kernelspec": {
   "display_name": "Python 3",
   "language": "python",
   "name": "python3"
  },
  "language_info": {
   "codemirror_mode": {
    "name": "ipython",
    "version": 3
   },
   "file_extension": ".py",
   "mimetype": "text/x-python",
   "name": "python",
   "nbconvert_exporter": "python",
   "pygments_lexer": "ipython3",
   "version": "3.8.5"
  }
 },
 "nbformat": 4,
 "nbformat_minor": 4
}
